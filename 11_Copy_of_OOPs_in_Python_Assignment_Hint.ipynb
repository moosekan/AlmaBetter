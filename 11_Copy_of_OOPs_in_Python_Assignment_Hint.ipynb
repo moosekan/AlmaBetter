{
  "nbformat": 4,
  "nbformat_minor": 0,
  "metadata": {
    "colab": {
      "provenance": [],
      "include_colab_link": true
    },
    "kernelspec": {
      "name": "python3",
      "display_name": "Python 3"
    },
    "language_info": {
      "name": "python"
    }
  },
  "cells": [
    {
      "cell_type": "markdown",
      "metadata": {
        "id": "view-in-github",
        "colab_type": "text"
      },
      "source": [
        "<a href=\"https://colab.research.google.com/github/moosekan/AlmaBetter/blob/main/11_Copy_of_OOPs_in_Python_Assignment_Hint.ipynb\" target=\"_parent\"><img src=\"https://colab.research.google.com/assets/colab-badge.svg\" alt=\"Open In Colab\"/></a>"
      ]
    },
    {
      "cell_type": "markdown",
      "source": [
        "##👋 Welcome to today's assignment!\n",
        "\n",
        "Are you ready to put your Object-Oriented Programming (OOPs) skills in Python to the test? With the knowledge you've gained in the last lesson, you'll breeze through this assignment!\n",
        "\n",
        "💪📚 Show us what you've got and let's see how far you've come in your learning journey.\n",
        "\n",
        "Good luck! 🍀🚀"
      ],
      "metadata": {
        "id": "PpTVNfnjw-cR"
      }
    },
    {
      "cell_type": "markdown",
      "source": [
        "🎓👨‍🎓👩‍🎓 Remember, mastering the concept of classes takes time, but don't worry! 💪🏼 If you've understood classes, methods, objects, and attributes, you're already 90% of the way there! 🙌🏼\n",
        "\n",
        "🧐 However, polymorphism and inheritance can be a bit more challenging to grasp. Don't get discouraged if you don't understand them right away! 🤔 It's completely normal, and it may take some time to truly master these concepts.\n",
        "\n",
        "🤓 Just remember that you can always go back and review the material, ask for help, or try some practice exercises. 📚👨‍🏫 You got this! 🚀\n",
        "\n",
        "That's why we have provided the Hint Material as Assignment and Actual SOlution as Hint, which you will get after submitting your Assignment."
      ],
      "metadata": {
        "id": "_uXUN6cWdqOj"
      }
    },
    {
      "cell_type": "markdown",
      "source": [
        "## **Activity 1:**"
      ],
      "metadata": {
        "id": "3p84Bm0S2QZa"
      }
    },
    {
      "cell_type": "markdown",
      "source": [
        "### **Building a Simple Calculator** 🧮🔢\n",
        "\n",
        "\n",
        "In this activity, you will build a simple calculator program in Python using Object-Oriented Programming (OOP) concepts."
      ],
      "metadata": {
        "id": "wi0GGVc-l-iH"
      }
    },
    {
      "cell_type": "code",
      "source": [
        "class Calculator:\n",
        "\n",
        "    def add(self, num1, num2):\n",
        "        return num1 + num2\n",
        "\n",
        "    def subtract(self, num1, num2):\n",
        "        return num1 - num2\n",
        "\n",
        "    def multiply(self, num1, num2):\n",
        "        return num1 * num2\n",
        "\n",
        "    def divide(self, num1, num2):\n",
        "        if num2 == 0:\n",
        "            raise ValueError(\"divide by zero\")\n",
        "        return num1 / num2"
      ],
      "metadata": {
        "id": "zphxebyom5IQ"
      },
      "execution_count": null,
      "outputs": []
    },
    {
      "cell_type": "code",
      "source": [
        "# Test Case\n",
        "calculator = Calculator()\n",
        "\n",
        "print(calculator.add(2, 3))\n",
        "print(calculator.subtract(5,2))\n",
        "print(calculator.multiply(5,6))\n",
        "#print(calculator.divide(5,0))\n",
        "print(calculator.divide(6,2))"
      ],
      "metadata": {
        "id": "rKnQSAlpsdx0",
        "colab": {
          "base_uri": "https://localhost:8080/"
        },
        "outputId": "d63d58d3-0200-4994-8283-9f58c3b2bff4"
      },
      "execution_count": null,
      "outputs": [
        {
          "output_type": "stream",
          "name": "stdout",
          "text": [
            "5\n",
            "3\n",
            "30\n",
            "3.0\n"
          ]
        }
      ]
    },
    {
      "cell_type": "markdown",
      "source": [
        "## **Activity 2:**"
      ],
      "metadata": {
        "id": "XR1w5int3DH8"
      }
    },
    {
      "cell_type": "markdown",
      "source": [
        "### 🏀 **Basketball Game Score Tracker** 📈\n",
        "\n",
        "Create a class that will keep track of the score of a basketball game. The class should have methods for updating the score and printing the current score."
      ],
      "metadata": {
        "id": "3IigXP8Ir4Yq"
      }
    },
    {
      "cell_type": "code",
      "source": [
        "class BasketballGame:\n",
        "    # Initialize score to 0 for both teams\n",
        "    def __init__(self):\n",
        "        self.team_a_score = 0\n",
        "        self.team_b_score = 0\n",
        "\n",
        "    # Update the score for team A\n",
        "    def add_team_a_score(self, points):\n",
        "        self.team_a_score += points\n",
        "\n",
        "    # Update the score for team B\n",
        "    def add_team_b_score(self, points):\n",
        "        self.team_b_score += points\n",
        "\n",
        "    # Print the current score\n",
        "    def print_score(self):\n",
        "        print(\"Team A:\", self.team_a_score)\n",
        "        print(\"Team B:\", self.team_b_score)"
      ],
      "metadata": {
        "id": "op236YgFsjA7"
      },
      "execution_count": null,
      "outputs": []
    },
    {
      "cell_type": "code",
      "source": [
        "# Example Usage:\n",
        "# You can add your own examples to test the code even\n",
        "\n",
        "# Create a new game object\n",
        "game = BasketballGame()\n",
        "\n",
        "# Update the score for team A\n",
        "game.add_team_a_score(2)\n",
        "game.add_team_a_score(3)\n",
        "\n",
        "# Update the score for team B\n",
        "game.add_team_b_score(2)\n",
        "\n",
        "# Print the current score\n",
        "game.print_score()"
      ],
      "metadata": {
        "id": "KSatdMIbsuI7",
        "colab": {
          "base_uri": "https://localhost:8080/"
        },
        "outputId": "d057e87d-5de5-4658-c4a1-0b25e358ebd3"
      },
      "execution_count": null,
      "outputs": [
        {
          "output_type": "stream",
          "name": "stdout",
          "text": [
            "Team A: 5\n",
            "Team B: 2\n"
          ]
        }
      ]
    },
    {
      "cell_type": "markdown",
      "source": [
        "## **Activity 3:**"
      ],
      "metadata": {
        "id": "GEGU0Xo831fy"
      }
    },
    {
      "cell_type": "markdown",
      "source": [
        "### 🎨 **Paint Brush Class** 🖌️\n",
        "\n",
        "Create a Python class for a paint brush that has the following properties:\n",
        "\n",
        "* Size (small, medium, or large)\n",
        "* Color (red, blue, green, or yellow)\n",
        "* Brand (Winsor & Newton, Liquitex, or Grumbacher)\n",
        "* Type (round or flat)\n"
      ],
      "metadata": {
        "id": "VwvhqW59s8-7"
      }
    },
    {
      "cell_type": "code",
      "source": [
        "# Define PaintBrush Class\n",
        "class PaintBrush:\n",
        "    def __init__(self, size, color, brand, typ):\n",
        "        self.size = size\n",
        "        self.color = color\n",
        "        self.brand = brand\n",
        "        self.typ = typ\n",
        "\n",
        "    def paint(self):\n",
        "        print(\"Painting with a {0} {1} {2} {3} brush\".format(self.size, self.color, self.brand, self.typ))"
      ],
      "metadata": {
        "id": "YZ8JOqPotDM7"
      },
      "execution_count": null,
      "outputs": []
    },
    {
      "cell_type": "markdown",
      "source": [
        "Now, create an instance of the PaintBrush class with the following properties:\n",
        "\n",
        "* Size: medium\n",
        "* Color: red\n",
        "* Brand: Winsor & Newton\n",
        "* Type: round\n",
        "* Call the paint() method on the instance to simulate painting with the brush."
      ],
      "metadata": {
        "id": "XA4HMkLatMrq"
      }
    },
    {
      "cell_type": "code",
      "source": [
        "# Test Case\n",
        "# Create an instance of PaintBrush\n",
        "brush = PaintBrush(\"medium\", \"red\", \"Winsor & Newton\", \"round\")\n",
        "\n",
        "# Call the paint() method on the instance\n",
        "brush.paint()"
      ],
      "metadata": {
        "id": "jMo7hRI4tQhU",
        "colab": {
          "base_uri": "https://localhost:8080/"
        },
        "outputId": "212653b9-acc9-4545-d4ed-d1a4074a55c8"
      },
      "execution_count": null,
      "outputs": [
        {
          "output_type": "stream",
          "name": "stdout",
          "text": [
            "Painting with a medium red Winsor & Newton round brush\n"
          ]
        }
      ]
    },
    {
      "cell_type": "markdown",
      "source": [
        "## **Activity 4:**"
      ],
      "metadata": {
        "id": "E792qPXJ4too"
      }
    },
    {
      "cell_type": "markdown",
      "source": [
        "### **Bank Account Management System** 💻🏦\n",
        "\n",
        "Create a Bank Account Management System using Object-Oriented Programming (OOPs) in Python. The system should allow users to create and manage bank accounts, deposit and withdraw funds, and view account details."
      ],
      "metadata": {
        "id": "ARKS5oEitsVt"
      }
    },
    {
      "cell_type": "code",
      "source": [
        "# Define a BankAccount class\n",
        "class BankAccount:\n",
        "\n",
        "    # Constructor to initialize account details\n",
        "    def __init__(self, name, account, balance):\n",
        "        self.name = name\n",
        "        self.account = account\n",
        "        self.balance = balance\n",
        "\n",
        "    # Method to deposit funds into the account\n",
        "    def deposit(self, amt):\n",
        "        self.balance += amt\n",
        "        print(\"Deposit successful. Your new balance is:\", self.balance)\n",
        "\n",
        "    # Method to withdraw funds from the account\n",
        "    def withdraw(self, amt):\n",
        "        if amt <= self.balance:\n",
        "            self.balance -= amt\n",
        "            print(\"Withdrawal successful. Your new balance is:\", self.balance)\n",
        "        else:\n",
        "            print(\"Insufficient balance. Your current balance is:\", self.balance)\n",
        "\n",
        "    # Method to view account details\n",
        "    def account_details(self):\n",
        "        print(\"Name:\", self.name)\n",
        "        print(\"Account Number:\", self.account)\n",
        "        print(\"Balance:\", self.balance)"
      ],
      "metadata": {
        "id": "J3WL7qYjvIml"
      },
      "execution_count": null,
      "outputs": []
    },
    {
      "cell_type": "code",
      "source": [
        "# Test Case\n",
        "\n",
        "# Create a new bank account\n",
        "account1 = BankAccount(\"John Doe\", \"1234567890\", 1000)\n",
        "\n",
        "# Test deposit method\n",
        "account1.deposit(500)\n",
        "\n",
        "# Test withdraw method\n",
        "account1.withdraw(2000)\n",
        "\n",
        "# Test account details method\n",
        "account1.account_details()"
      ],
      "metadata": {
        "id": "mihs9I58w0AB",
        "colab": {
          "base_uri": "https://localhost:8080/"
        },
        "outputId": "37c9e7ab-abe3-4123-f640-758516923159"
      },
      "execution_count": null,
      "outputs": [
        {
          "output_type": "stream",
          "name": "stdout",
          "text": [
            "Deposit successful. Your new balance is: 1500\n",
            "Insufficient balance. Your current balance is: 1500\n",
            "Name: John Doe\n",
            "Account Number: 1234567890\n",
            "Balance: 1500\n"
          ]
        }
      ]
    }
  ]
}